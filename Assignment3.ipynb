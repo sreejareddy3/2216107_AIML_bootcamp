{
  "nbformat": 4,
  "nbformat_minor": 0,
  "metadata": {
    "colab": {
      "name": "Assignment3.ipynb",
      "provenance": [],
      "collapsed_sections": [],
      "authorship_tag": "ABX9TyMP2z4Vjsn/kO2vQnglJG5G",
      "include_colab_link": true
    },
    "kernelspec": {
      "name": "python3",
      "display_name": "Python 3"
    },
    "language_info": {
      "name": "python"
    }
  },
  "cells": [
    {
      "cell_type": "markdown",
      "metadata": {
        "id": "view-in-github",
        "colab_type": "text"
      },
      "source": [
        "<a href=\"https://colab.research.google.com/github/sreejareddy3/2216107_AIML_bootcamp/blob/main/Assignment3.ipynb\" target=\"_parent\"><img src=\"https://colab.research.google.com/assets/colab-badge.svg\" alt=\"Open In Colab\"/></a>"
      ]
    },
    {
      "cell_type": "code",
      "execution_count": 13,
      "metadata": {
        "id": "h-Humhgqym6X"
      },
      "outputs": [],
      "source": [
        ""
      ]
    },
    {
      "cell_type": "code",
      "source": [
        ""
      ],
      "metadata": {
        "id": "LWekfgwUyv4w"
      },
      "execution_count": null,
      "outputs": []
    },
    {
      "cell_type": "code",
      "execution_count": null,
      "metadata": {
        "id": "4y9oAfSDlZ6A",
        "colab": {
          "base_uri": "https://localhost:8080/"
        },
        "outputId": "1df1500c-a15a-4b99-9e19-b4662233f976"
      },
      "outputs": [
        {
          "output_type": "stream",
          "name": "stdout",
          "text": [
            "Addition of 2 numbers is 10\n",
            "Sub of 2 numbers is 5\n"
          ]
        }
      ],
      "source": [
        "#class & object\n",
        "class CO:\n",
        "  def subn(self,a,b):\n",
        "    return a-b\n",
        "  def addn(self,a,b):\n",
        "    return a+b\n",
        "obj=CO()\n",
        "print(\"Addition of 2 numbers is\",obj.addn(5,5))\n",
        "print(\"Sub of 2 numbers is\",obj.subn(10,5))"
      ]
    },
    {
      "cell_type": "code",
      "source": [
        "class C1:\n",
        "  '''description'''\n",
        "  class_var=\"demonstrates class creation\"\n",
        "  def cm(self):\n",
        "    return\"method invocation\"\n",
        "  def __str__(self):\n",
        "    return\"returns string to object\"\n",
        "obj1=C1()\n",
        "print(obj1.class_var)\n",
        "print(obj1.cm())  \n",
        "print(obj1)  "
      ],
      "metadata": {
        "colab": {
          "base_uri": "https://localhost:8080/"
        },
        "id": "TM1X1OUkER51",
        "outputId": "568b2f7d-5beb-436c-cb5b-c7c6b3e39ab9"
      },
      "execution_count": null,
      "outputs": [
        {
          "output_type": "stream",
          "name": "stdout",
          "text": [
            "demonstrates class creation\n",
            "method invocation\n",
            "returns string to object\n"
          ]
        }
      ]
    },
    {
      "cell_type": "markdown",
      "source": [
        "Activity1: addition,sub,mul,div,floor div,mod,power\n",
        "\n",
        "arithmeticclass"
      ],
      "metadata": {
        "id": "AusX-1J5FwCc"
      }
    },
    {
      "cell_type": "code",
      "source": [
        "#arithmetic\n",
        "class ar:\n",
        "  def subn(self,a,b):\n",
        "    return a-b\n",
        "  def addn(self,a,b):\n",
        "    return a+b\n",
        "  def mul(self,a,b):\n",
        "    return a*b\n",
        "  def div(self,a,b):\n",
        "    return a/b\n",
        "  def mo(self,a,b):\n",
        "    return a%b\n",
        "  def fl(self,a,b):\n",
        "    return a//b\n",
        "  def po(self,a,b):\n",
        "    return a**b\n",
        "obj=ar()\n",
        "print(\"Addition of 2 numbers is\",obj.addn(8,5))\n",
        "print(\"sub of 2 numbers is\",obj.subn(10,2))\n",
        "print(\"mul of 2 numbers is\",obj.mul(10,12))\n",
        "print(\"div of 2 numbers is\",obj.div(10,5))\n",
        "print(\"mo of 2 numbers is\",obj.subn(10,5))\n",
        "print(\"float div of 2 numbers is\",obj.subn(10,5))\n",
        "print(\"power of 2 numbers is\",obj.subn(10,5))"
      ],
      "metadata": {
        "id": "JGqpI-jCGLlk",
        "colab": {
          "base_uri": "https://localhost:8080/"
        },
        "outputId": "0c2512d4-62e6-4075-e6bd-ddd816148671"
      },
      "execution_count": null,
      "outputs": [
        {
          "output_type": "stream",
          "name": "stdout",
          "text": [
            "Addition of 2 numbers is 13\n",
            "sub of 2 numbers is 8\n",
            "mul of 2 numbers is 120\n",
            "div of 2 numbers is 2.0\n",
            "mo of 2 numbers is 5\n",
            "float div of 2 numbers is 5\n",
            "power of 2 numbers is 5\n"
          ]
        }
      ]
    },
    {
      "cell_type": "code",
      "source": [
        "#inheritance\n",
        "\n",
        "#single\n",
        "class Animal:\n",
        "  def animal_sounds(self):\n",
        "    return\"makes sound\"\n",
        "class Cat(Animal):\n",
        "  def cat_sound(self):\n",
        "    return self.animal_sounds()+\"MEOW\"\n",
        "  def __str__(self):\n",
        "    return\"CAT\" \n",
        "catobj=Cat()\n",
        "print(catobj,catobj.cat_sound())  \n",
        "\n",
        "#hierarchical\n",
        "class Animal:\n",
        "  def animal_sounds(self):\n",
        "    return\"makes sound\"\n",
        "class Cat(Animal):\n",
        "  def cat_sound(self):\n",
        "    return self.animal_sounds()+\"MEOW\"\n",
        "  def __str__(self):\n",
        "    return\"CAT\" \n",
        "\n",
        "class Dog(Animal):\n",
        "  def dog_sound(self):\n",
        "     return self.animal_sounds()+\"BOw\"\n",
        "  def __str__(self):\n",
        "     return\"DOG\"\n",
        "catobj=Cat()    \n",
        "print(catobj,catobj.cat_sound())  \n",
        "dogobj=Dog()\n",
        "print(dogobj,dogobj.dog_sound())"
      ],
      "metadata": {
        "colab": {
          "base_uri": "https://localhost:8080/"
        },
        "id": "9MdUmR0UHSo4",
        "outputId": "5c30e353-67e8-4c72-b94f-f4d5d41e2814"
      },
      "execution_count": null,
      "outputs": [
        {
          "output_type": "stream",
          "name": "stdout",
          "text": [
            "CAT makes soundMEOW\n",
            "CAT makes soundMEOW\n",
            "DOG makes soundBOw\n"
          ]
        }
      ]
    },
    {
      "cell_type": "code",
      "source": [
        "#multilevel inheritance\n",
        "class Animal:\n",
        "  def animal_sounds(self):\n",
        "    return \"makes sound\"\n",
        "class Cat(Animal):\n",
        "  def cat_sound(self):\n",
        "    return self.animal_sounds()+\"MEOW\"\n",
        "class CatColor(Cat):\n",
        "  def __str__(self):\n",
        "    return \"CAT\"\n",
        "  def color(self):\n",
        "     return \"color is white\"\n",
        "catcolor=CatColor()\n",
        "print(catcolor,catcolor.cat_sound())\n",
        "print(catcolor,catcolor.color())     \n",
        "\n",
        "#dog example:\n",
        "class Animal:\n",
        "  def animal_sounds(self):\n",
        "    return \"makes sound\"\n",
        "class Dog(Animal):\n",
        "  def dog_sound(self):\n",
        "    return self.animal_sounds()+\"BOW\"\n",
        "class DogColor(Dog):\n",
        "  def __str__(self):\n",
        "    return \"DOG\"\n",
        "  def color(self):\n",
        "     return \"color is black\"\n",
        "dogcolor=DogColor()\n",
        "print(dogcolor,dogcolor.dog_sound())\n",
        "print(dogcolor,dogcolor.color())             \n"
      ],
      "metadata": {
        "id": "fTZpA2XBLmQ9",
        "colab": {
          "base_uri": "https://localhost:8080/"
        },
        "outputId": "bf4c6086-72c2-468a-b34f-4f350645dfc6"
      },
      "execution_count": null,
      "outputs": [
        {
          "output_type": "stream",
          "name": "stdout",
          "text": [
            "CAT makes soundMEOW\n",
            "CAT color is white\n",
            "DOG makes soundBOW\n",
            "DOG color is black\n"
          ]
        }
      ]
    },
    {
      "cell_type": "code",
      "source": [
        "#exceptions\n",
        "#name\n",
        "try:\n",
        "  print(x)\n",
        "except NameError as ne:\n",
        "  print(\"exception occurred\",ne)\n",
        "print(\"executed\")   "
      ],
      "metadata": {
        "colab": {
          "base_uri": "https://localhost:8080/"
        },
        "id": "OXBjboNdMQmy",
        "outputId": "ad6a3bde-0adc-4cf6-f714-7e4cecd6381b"
      },
      "execution_count": null,
      "outputs": [
        {
          "output_type": "stream",
          "name": "stdout",
          "text": [
            "exception occurred name 'x' is not defined\n",
            "executed\n"
          ]
        }
      ]
    },
    {
      "cell_type": "code",
      "source": [
        "#value error\n",
        "a=\"25 xyz\"\n",
        "print(int(a))"
      ],
      "metadata": {
        "colab": {
          "base_uri": "https://localhost:8080/",
          "height": 200
        },
        "id": "tIITCxjhMuHu",
        "outputId": "869b4c22-8697-498c-a81c-c9f91a8b0cb2"
      },
      "execution_count": null,
      "outputs": [
        {
          "output_type": "error",
          "ename": "ValueError",
          "evalue": "ignored",
          "traceback": [
            "\u001b[0;31m---------------------------------------------------------------------------\u001b[0m",
            "\u001b[0;31mValueError\u001b[0m                                Traceback (most recent call last)",
            "\u001b[0;32m<ipython-input-36-d7f61ebe063d>\u001b[0m in \u001b[0;36m<module>\u001b[0;34m()\u001b[0m\n\u001b[1;32m      1\u001b[0m \u001b[0;31m#value error\u001b[0m\u001b[0;34m\u001b[0m\u001b[0;34m\u001b[0m\u001b[0;34m\u001b[0m\u001b[0m\n\u001b[1;32m      2\u001b[0m \u001b[0ma\u001b[0m\u001b[0;34m=\u001b[0m\u001b[0;34m\"25 xyz\"\u001b[0m\u001b[0;34m\u001b[0m\u001b[0;34m\u001b[0m\u001b[0m\n\u001b[0;32m----> 3\u001b[0;31m \u001b[0mprint\u001b[0m\u001b[0;34m(\u001b[0m\u001b[0mint\u001b[0m\u001b[0;34m(\u001b[0m\u001b[0ma\u001b[0m\u001b[0;34m)\u001b[0m\u001b[0;34m)\u001b[0m\u001b[0;34m\u001b[0m\u001b[0;34m\u001b[0m\u001b[0m\n\u001b[0m",
            "\u001b[0;31mValueError\u001b[0m: invalid literal for int() with base 10: '25 xyz'"
          ]
        }
      ]
    },
    {
      "cell_type": "code",
      "source": [
        "#value error using try\n",
        "a='25 xyz'\n",
        "try:\n",
        "  print(int(a))\n",
        "except ValueError as e:\n",
        "  print(e)"
      ],
      "metadata": {
        "colab": {
          "base_uri": "https://localhost:8080/"
        },
        "id": "MQaW1-NHM15I",
        "outputId": "8b23eda4-54b5-4ad8-ec26-5a55ae3bfe25"
      },
      "execution_count": null,
      "outputs": [
        {
          "output_type": "stream",
          "name": "stdout",
          "text": [
            "invalid literal for int() with base 10: '25 xyz'\n"
          ]
        }
      ]
    },
    {
      "cell_type": "code",
      "source": [
        "#exception handling\n",
        "#2003\n",
        "class INVALIDSTUDENTID(Exception):\n",
        " pass\n",
        "stid=input(\"enter student id\")\n",
        "try:\n",
        "   if stid[:4]!=\"2003\":\n",
        "     raise INVALIDSTUDENTID\n",
        "except INVALIDSTUDENTID:\n",
        "  print(\"error raised due to invalid details\")\n",
        "print(\"details verified\")   \n",
        "\n",
        "\n",
        "#2\n",
        "class INVALIDSTUDENTID(Exception):\n",
        " def __str__(self):\n",
        "   return \"ERROR RAISED\"\n",
        "stid=input(\"enter student id\")   \n",
        "try:\n",
        "   if stid[:4]!=\"2003\":\n",
        "     raise INVALIDSTUDENTID\n",
        "except INVALIDSTUDENTID as invalid:\n",
        "  print(\"invalid\")\n",
        "print(\"details verified\")   \n"
      ],
      "metadata": {
        "colab": {
          "base_uri": "https://localhost:8080/"
        },
        "id": "zXTqgpPJO5m7",
        "outputId": "a7969991-1fb9-403f-80a1-fa6eafb8155e"
      },
      "execution_count": null,
      "outputs": [
        {
          "output_type": "stream",
          "name": "stdout",
          "text": [
            "enter student id2003\n",
            "details verified\n",
            "enter student id2014\n",
            "invalid\n",
            "details verified\n"
          ]
        }
      ]
    },
    {
      "cell_type": "markdown",
      "source": [
        "Activity2: implement exception handling for age of voter."
      ],
      "metadata": {
        "id": "gXsa21AuQUuM"
      }
    },
    {
      "cell_type": "code",
      "source": [
        "class vote(Exception):\n",
        "  pass\n",
        "age=input(\"enter student id=\")\n",
        "try:\n",
        "  if age[:4]<=\"18\":\n",
        "    raise vote\n",
        "except vote:\n",
        "  print(\"error raised due to invalid details\")\n",
        "print(\"You can vote\") "
      ],
      "metadata": {
        "id": "gpQZJvBlQ5Nd",
        "colab": {
          "base_uri": "https://localhost:8080/"
        },
        "outputId": "4d923546-c259-4a30-e79a-dad306db3cd1"
      },
      "execution_count": null,
      "outputs": [
        {
          "output_type": "stream",
          "name": "stdout",
          "text": [
            "enter student id=25\n",
            "You can vote\n"
          ]
        }
      ]
    },
    {
      "cell_type": "code",
      "source": [
        "f=open(\"sample.txt\",\"x\")"
      ],
      "metadata": {
        "id": "T9P5PMTyh_IV"
      },
      "execution_count": null,
      "outputs": []
    },
    {
      "cell_type": "code",
      "source": [
        "f1=open(\"sample.txt\",\"w\")\n",
        "f1.write(\"WELCOME\")\n",
        "f1.close()"
      ],
      "metadata": {
        "id": "x2SxLZi8jeYp"
      },
      "execution_count": null,
      "outputs": []
    },
    {
      "cell_type": "code",
      "source": [
        "f=open(\"sample.txt\",\"r\")\n",
        "print(f.read())\n",
        "f.close()"
      ],
      "metadata": {
        "colab": {
          "base_uri": "https://localhost:8080/"
        },
        "id": "hhNeZHw1wUgO",
        "outputId": "ce350b5c-2b96-48af-888e-7770902a5d81"
      },
      "execution_count": null,
      "outputs": [
        {
          "output_type": "stream",
          "name": "stdout",
          "text": [
            "WELCOME\n"
          ]
        }
      ]
    },
    {
      "cell_type": "code",
      "source": [
        "import os\n",
        "os.remove(\"sample.txt\")"
      ],
      "metadata": {
        "id": "iR_A7idB5unK"
      },
      "execution_count": null,
      "outputs": []
    },
    {
      "cell_type": "code",
      "source": [
        "f=open(\"sample.txt\",\"x\")\n",
        "f.write(\"welcome\")\n",
        "f.close()"
      ],
      "metadata": {
        "id": "L8jPd7m45khZ"
      },
      "execution_count": null,
      "outputs": []
    },
    {
      "cell_type": "code",
      "source": [
        "f=open(\"sample.txt\",\"r\")\n",
        "print(f.read(3))\n",
        "print(f.tell())\n",
        "print(f.seek(2))\n",
        "print(f.seek(0))\n",
        "print(f.readline())\n",
        "print(f.readlines())\n",
        "f.close()"
      ],
      "metadata": {
        "colab": {
          "base_uri": "https://localhost:8080/"
        },
        "id": "llxUbSz25IAw",
        "outputId": "576ec699-c94b-407c-fcd7-a25a59e83834"
      },
      "execution_count": null,
      "outputs": [
        {
          "output_type": "stream",
          "name": "stdout",
          "text": [
            "wel\n",
            "3\n",
            "2\n",
            "0\n",
            "welcome\n",
            "[]\n"
          ]
        }
      ]
    },
    {
      "cell_type": "code",
      "source": [
        ""
      ],
      "metadata": {
        "id": "ExOlE3PA5HXW"
      },
      "execution_count": null,
      "outputs": []
    },
    {
      "cell_type": "markdown",
      "source": [
        "1.append\n",
        "2.reverse palindrome\n",
        "3.print even elements\n",
        "4.print odd elements\n",
        "5.print element alterante capital and small \n",
        "6.to check a number is armstrong\n",
        "7.to check if letter starts with particular alphabet in file\n",
        "8.create a dictionary and save it as a file, and then convert the elements into list"
      ],
      "metadata": {
        "id": "vO1a1Q4knLBL"
      }
    },
    {
      "cell_type": "code",
      "source": [
        "#6 qstn\n",
        "dic={'apple':1,'banana':2}\n",
        "list=list(dic.items())\n",
        "print(list)\n",
        "f=open('sample.txt','w')\n",
        "data=str(dic)\n",
        "f.write(data)\n",
        "\n"
      ],
      "metadata": {
        "colab": {
          "base_uri": "https://localhost:8080/"
        },
        "id": "TXLM9inSnNXZ",
        "outputId": "9a845f53-f32c-4f0b-f369-24b15121722c"
      },
      "execution_count": null,
      "outputs": [
        {
          "output_type": "stream",
          "name": "stdout",
          "text": [
            "[('apple', 1), ('banana', 2)]\n"
          ]
        },
        {
          "output_type": "execute_result",
          "data": {
            "text/plain": [
              "25"
            ]
          },
          "metadata": {},
          "execution_count": 50
        }
      ]
    },
    {
      "cell_type": "code",
      "source": [
        "#copy paste\n",
        "f1=open(\"f11.txt\",\"x\")\n",
        "f2=open(\"f2.txt\",\"x\")"
      ],
      "metadata": {
        "id": "zd1gQe8Q6kyW"
      },
      "execution_count": null,
      "outputs": []
    },
    {
      "cell_type": "code",
      "source": [
        "f1=open(\"f11.txt\",\"w\")\n",
        "f1.write(\"COPYPASTE\")\n",
        "f1.close()"
      ],
      "metadata": {
        "id": "ncC9GULX6kwG"
      },
      "execution_count": null,
      "outputs": []
    },
    {
      "cell_type": "code",
      "source": [
        "f1=open(\"f11.txt\",\"r\")\n",
        "temp=f1.read()\n",
        "f1.close()\n",
        "\n",
        "f2=open(\"f2.txt\",\"w\")\n",
        "f2.write(temp)\n",
        "f2.close()"
      ],
      "metadata": {
        "id": "QjYJaPNP61nE"
      },
      "execution_count": null,
      "outputs": []
    },
    {
      "cell_type": "code",
      "source": [
        "#pickle\n",
        "import pickle\n",
        "myl=['a','b','c','d']\n",
        "f4=open(\"datafile1.txt\",\"wb\")\n",
        "pickle.dump(myl,f4)\n",
        "f4.close()\n",
        "\n",
        "#unpickling\n",
        "import pickle\n",
        "picke_off=open(\"datafile1.txt\",\"rb\")\n",
        "e=pickle.load(picke_off)\n",
        "print(e)"
      ],
      "metadata": {
        "colab": {
          "base_uri": "https://localhost:8080/"
        },
        "id": "WRozuaII64XC",
        "outputId": "f40a4f29-bba6-4e14-a9c3-fa977aab5dda"
      },
      "execution_count": 14,
      "outputs": [
        {
          "output_type": "stream",
          "name": "stdout",
          "text": [
            "['a', 'b', 'c', 'd']\n"
          ]
        }
      ]
    },
    {
      "cell_type": "code",
      "source": [
        "#regular expressions\n",
        "import re\n",
        "pattern=r\"COOKIE\"\n",
        "sequence=(\"Cookie\")\n",
        "if re.match(pattern,sequence):\n",
        "  print(\"MATCHING\")\n",
        "else:\n",
        "  print(\"NOT A MATCH\")\n",
        "  "
      ],
      "metadata": {
        "colab": {
          "base_uri": "https://localhost:8080/"
        },
        "id": "68nxyrD664Ve",
        "outputId": "8ab29476-1c9a-4ef7-c910-6f555e21dad0"
      },
      "execution_count": null,
      "outputs": [
        {
          "output_type": "stream",
          "name": "stdout",
          "text": [
            "NOT A MATCH\n"
          ]
        }
      ]
    },
    {
      "cell_type": "code",
      "source": [
        "import re\n",
        "phone=input(\"Enter a number=\")\n",
        "print(re.search(r'\\d{10}',phone).group())"
      ],
      "metadata": {
        "colab": {
          "base_uri": "https://localhost:8080/"
        },
        "id": "JeJFsoAA7AjQ",
        "outputId": "8c1ad9c3-8ae4-4397-d572-178883bfab8a"
      },
      "execution_count": null,
      "outputs": [
        {
          "output_type": "stream",
          "name": "stdout",
          "text": [
            "Enter a number=8919602501\n",
            "8919602501\n"
          ]
        }
      ]
    }
  ]
}