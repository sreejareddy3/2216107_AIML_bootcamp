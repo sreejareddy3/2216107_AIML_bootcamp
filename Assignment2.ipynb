{
  "nbformat": 4,
  "nbformat_minor": 0,
  "metadata": {
    "colab": {
      "name": "Assignment2.ipynb",
      "provenance": [],
      "authorship_tag": "ABX9TyPg/d4elfbM3y5CYlaJmCTS",
      "include_colab_link": true
    },
    "kernelspec": {
      "name": "python3",
      "display_name": "Python 3"
    },
    "language_info": {
      "name": "python"
    }
  },
  "cells": [
    {
      "cell_type": "markdown",
      "metadata": {
        "id": "view-in-github",
        "colab_type": "text"
      },
      "source": [
        "<a href=\"https://colab.research.google.com/github/sreejareddy3/2216107_AIML_bootcamp/blob/main/Assignment2.ipynb\" target=\"_parent\"><img src=\"https://colab.research.google.com/assets/colab-badge.svg\" alt=\"Open In Colab\"/></a>"
      ]
    },
    {
      "cell_type": "code",
      "execution_count": 9,
      "metadata": {
        "colab": {
          "base_uri": "https://localhost:8080/"
        },
        "id": "5uRuNC6W104E",
        "outputId": "d4ae4ec8-d843-4c16-d9b5-f078210614e3"
      },
      "outputs": [
        {
          "output_type": "stream",
          "name": "stdout",
          "text": [
            "true\n",
            "10\n"
          ]
        }
      ],
      "source": [
        "#if statement\n",
        "var=10\n",
        "if var>0:\n",
        "  print(\"true\")\n",
        "  print(var)"
      ]
    },
    {
      "cell_type": "code",
      "source": [
        "#if else statement\n",
        "v=-3\n",
        "if v>0:\n",
        "  print(\"true\")\n",
        "  print(v)\n",
        "else:\n",
        "  print(\"flase\")\n",
        "  print(v)"
      ],
      "metadata": {
        "colab": {
          "base_uri": "https://localhost:8080/"
        },
        "id": "dDqejGE32_gQ",
        "outputId": "36780bfd-55e1-439a-df5d-1ba58b324908"
      },
      "execution_count": null,
      "outputs": [
        {
          "output_type": "stream",
          "name": "stdout",
          "text": [
            "flase\n",
            "-3\n"
          ]
        }
      ]
    },
    {
      "cell_type": "code",
      "source": [
        "#nested if statements\n",
        "#bus tickets\n",
        "age=int(input(\"Enter age=\"))\n",
        "if age>8 and age<=50 :\n",
        "  if age<15:\n",
        "    print(\"Quarter ticket \")\n",
        "  elif age==15:\n",
        "    print(\"Quarter ticket + discount\")\n",
        "  else:\n",
        "    print(\"half ticket\")\n",
        "elif age>=18 and age<=70:\n",
        "  print(\"Full ticket\")\n",
        "elif age>60:\n",
        "  print(\"Full ticket + discount\")\n",
        "else:\n",
        "  print(\"No ticket\")"
      ],
      "metadata": {
        "colab": {
          "base_uri": "https://localhost:8080/"
        },
        "id": "MpZyEw373t9d",
        "outputId": "4a78991f-125f-4e3e-b444-1f8631b05f75"
      },
      "execution_count": null,
      "outputs": [
        {
          "output_type": "stream",
          "name": "stdout",
          "text": [
            "Enter age=16\n",
            "half ticket\n"
          ]
        }
      ]
    },
    {
      "cell_type": "code",
      "source": [
        "#for loop\n",
        "num=[2,1,6,12,20,33,65,26,18]\n",
        "sum=0\n",
        "for val in num:\n",
        "  sum+=val;\n",
        "print(\"The sum is =\",sum)\n",
        "print(\"\\n\")\n",
        "for i in range(1,7):\n",
        "  print(i)\n",
        "print(\"\\n\")\n",
        "for i in range(1,9,2):\n",
        "  print(i)\n",
        "print(\"\\n\")\n",
        "x=[1,2,3,4,5,6,7]\n",
        "y=[]\n",
        "for a in x:\n",
        "  if a%2==0:\n",
        "    y.append(a)\n",
        "print(y)"
      ],
      "metadata": {
        "colab": {
          "base_uri": "https://localhost:8080/"
        },
        "id": "Gh_2FxuF4cvj",
        "outputId": "d782ecd8-e6ae-4372-8f5b-6df58733725e"
      },
      "execution_count": null,
      "outputs": [
        {
          "output_type": "stream",
          "name": "stdout",
          "text": [
            "The sum is = 183\n",
            "\n",
            "\n",
            "1\n",
            "2\n",
            "3\n",
            "4\n",
            "5\n",
            "6\n",
            "\n",
            "\n",
            "1\n",
            "3\n",
            "5\n",
            "7\n",
            "\n",
            "\n",
            "[2, 4, 6]\n"
          ]
        }
      ]
    },
    {
      "cell_type": "code",
      "source": [
        "# using statements in for loop\n",
        "digit=[0,8,12]\n",
        "for i in digit:\n",
        "  print(i)\n",
        "else:\n",
        "  print(\"no items left\")\n",
        "print(\"\\n\")\n",
        "for l in \"strawberry\":\n",
        "  print(\"current letter :\",l)"
      ],
      "metadata": {
        "colab": {
          "base_uri": "https://localhost:8080/"
        },
        "id": "cLJHkqEU5DuP",
        "outputId": "6e852db5-5cb3-44f4-d3f1-3aee9f097f25"
      },
      "execution_count": null,
      "outputs": [
        {
          "output_type": "stream",
          "name": "stdout",
          "text": [
            "0\n",
            "8\n",
            "12\n",
            "no items left\n",
            "\n",
            "\n",
            "current letter : s\n",
            "current letter : t\n",
            "current letter : r\n",
            "current letter : a\n",
            "current letter : w\n",
            "current letter : b\n",
            "current letter : e\n",
            "current letter : r\n",
            "current letter : r\n",
            "current letter : y\n"
          ]
        }
      ]
    },
    {
      "cell_type": "code",
      "source": [
        "#iterating by sequence indexing\n",
        "snacks=['pizza','burger','pasta']\n",
        "for index in range(len(snacks)):\n",
        " print(\"current snacks:\",snacks[index])"
      ],
      "metadata": {
        "colab": {
          "base_uri": "https://localhost:8080/"
        },
        "id": "ICyaDYEl5go1",
        "outputId": "5f8230cc-d4be-4f5b-f190-2e4c14789c8e"
      },
      "execution_count": null,
      "outputs": [
        {
          "output_type": "stream",
          "name": "stdout",
          "text": [
            "current snacks: pizza\n",
            "current snacks: burger\n",
            "current snacks: pasta\n"
          ]
        }
      ]
    },
    {
      "cell_type": "code",
      "source": [
        "#while\n",
        "i=1\n",
        "while i<=15:\n",
        "  print(i)\n",
        "  i+=1\n",
        "print(\"\\n\")\n",
        "i=0\n",
        "while i<8:\n",
        "  print(i,\"is less then 8\")\n",
        "  i+=1\n",
        "else:\n",
        "  print(i,\"is not less then 8\")"
      ],
      "metadata": {
        "colab": {
          "base_uri": "https://localhost:8080/"
        },
        "id": "2Qww5Fh86KlW",
        "outputId": "cfae9073-a226-43f4-fc0e-b7fb00151183"
      },
      "execution_count": null,
      "outputs": [
        {
          "output_type": "stream",
          "name": "stdout",
          "text": [
            "1\n",
            "2\n",
            "3\n",
            "4\n",
            "5\n",
            "6\n",
            "7\n",
            "8\n",
            "9\n",
            "10\n",
            "11\n",
            "12\n",
            "13\n",
            "14\n",
            "15\n",
            "\n",
            "\n",
            "0 is less then 8\n",
            "1 is less then 8\n",
            "2 is less then 8\n",
            "3 is less then 8\n",
            "4 is less then 8\n",
            "5 is less then 8\n",
            "6 is less then 8\n",
            "7 is less then 8\n",
            "8 is not less then 8\n"
          ]
        }
      ]
    },
    {
      "cell_type": "code",
      "source": [
        "#nested loops\n",
        "print(\"addition\")\n",
        "x=[[1,9,3],\n",
        "   [4,7,5],\n",
        "   [6,8,9]]\n",
        "y=[[4,8,5],[1,8,0],[9,2,7]]\n",
        "res=[[0,0,0],[0,0,0],[0,0,0]]\n",
        "for i in range(len(x)):\n",
        "  for j in range(len(x[0])):\n",
        "    res[i][j]=x[i][j] + y[i][j]\n",
        "for r in res:\n",
        "  print(r)\n",
        "print(\"\\n\")\n",
        "print(\"Subtraction\")\n",
        "res=[[0,0,0],[0,0,0],[0,0,0]]\n",
        "for i in range(len(x)):\n",
        "  for j in range(len(x[0])):\n",
        "    res[i][j]=x[i][j] - y[i][j]\n",
        "for r in res:\n",
        "  print(r)\n",
        "print(\"\\n\")\n",
        "print(\"Multiplication\")\n",
        "res=[[0,0,0],[0,0,0],[0,0,0]]\n",
        "for i in range(len(x)):\n",
        "  for j in range(len(x[0])):\n",
        "    res[i][j]=x[i][j] * y[i][j]\n",
        "for r in res:\n",
        "  print(r)"
      ],
      "metadata": {
        "colab": {
          "base_uri": "https://localhost:8080/"
        },
        "id": "L-4_mxBA6ZYg",
        "outputId": "a6961d89-f9ee-463f-ea88-34bee6dc6428"
      },
      "execution_count": null,
      "outputs": [
        {
          "output_type": "stream",
          "name": "stdout",
          "text": [
            "addition\n",
            "[5, 17, 8]\n",
            "[5, 15, 5]\n",
            "[15, 10, 16]\n",
            "\n",
            "\n",
            "Subtraction\n",
            "[-3, 1, -2]\n",
            "[3, -1, 5]\n",
            "[-3, 6, 2]\n",
            "\n",
            "\n",
            "Multiplication\n",
            "[4, 72, 15]\n",
            "[4, 56, 0]\n",
            "[54, 16, 63]\n"
          ]
        }
      ]
    },
    {
      "cell_type": "code",
      "source": [
        "n1=int(input(\"Enter number of table you want to print\"))\n",
        "i=1\n",
        "while(i<=n1):\n",
        "  print(f\"Table{i}\")\n",
        "  j=1\n",
        "  while(j<=10):\n",
        "    print(f\"{i}*{j}={i*j}\")\n",
        "    j+=1\n",
        "  print(\"________________\")\n",
        "  i+=1"
      ],
      "metadata": {
        "colab": {
          "base_uri": "https://localhost:8080/"
        },
        "id": "1G2_mcws6_Lv",
        "outputId": "a6d435ba-bef5-4514-90a7-2ac4e3439408"
      },
      "execution_count": null,
      "outputs": [
        {
          "output_type": "stream",
          "name": "stdout",
          "text": [
            "Enter number of table you want to print5\n",
            "Table1\n",
            "1*1=1\n",
            "1*2=2\n",
            "1*3=3\n",
            "1*4=4\n",
            "1*5=5\n",
            "1*6=6\n",
            "1*7=7\n",
            "1*8=8\n",
            "1*9=9\n",
            "1*10=10\n",
            "________________\n",
            "Table2\n",
            "2*1=2\n",
            "2*2=4\n",
            "2*3=6\n",
            "2*4=8\n",
            "2*5=10\n",
            "2*6=12\n",
            "2*7=14\n",
            "2*8=16\n",
            "2*9=18\n",
            "2*10=20\n",
            "________________\n",
            "Table3\n",
            "3*1=3\n",
            "3*2=6\n",
            "3*3=9\n",
            "3*4=12\n",
            "3*5=15\n",
            "3*6=18\n",
            "3*7=21\n",
            "3*8=24\n",
            "3*9=27\n",
            "3*10=30\n",
            "________________\n",
            "Table4\n",
            "4*1=4\n",
            "4*2=8\n",
            "4*3=12\n",
            "4*4=16\n",
            "4*5=20\n",
            "4*6=24\n",
            "4*7=28\n",
            "4*8=32\n",
            "4*9=36\n",
            "4*10=40\n",
            "________________\n",
            "Table5\n",
            "5*1=5\n",
            "5*2=10\n",
            "5*3=15\n",
            "5*4=20\n",
            "5*5=25\n",
            "5*6=30\n",
            "5*7=35\n",
            "5*8=40\n",
            "5*9=45\n",
            "5*10=50\n",
            "________________\n"
          ]
        }
      ]
    },
    {
      "cell_type": "code",
      "source": [
        "#control statements\n",
        "#break\n",
        "for l in 'purple':\n",
        "  if l=='r':\n",
        "    break\n",
        "  print(\"current letter:\",l)\n",
        "print(\"\\n\")\n",
        "i=12\n",
        "while(i>0):\n",
        "  print(\"current value:\",i)\n",
        "  i=i-1\n",
        "  if i==6:\n",
        "    break"
      ],
      "metadata": {
        "colab": {
          "base_uri": "https://localhost:8080/"
        },
        "id": "gS3YEby97Utx",
        "outputId": "f4474c24-9201-4968-bf53-4d91358df236"
      },
      "execution_count": null,
      "outputs": [
        {
          "output_type": "stream",
          "name": "stdout",
          "text": [
            "current letter: p\n",
            "current letter: u\n",
            "\n",
            "\n",
            "current value: 12\n",
            "current value: 11\n",
            "current value: 10\n",
            "current value: 9\n",
            "current value: 8\n",
            "current value: 7\n"
          ]
        }
      ]
    },
    {
      "cell_type": "code",
      "source": [
        "#continue\n",
        "for l in 'pineapple':\n",
        "  if l=='a':\n",
        "    continue\n",
        "  print(\"current letter:\",l)\n",
        "print(\"\\n\")\n",
        "i=10\n",
        "while(i>0):\n",
        "  print(\"current value:\",i)\n",
        "  i=i-1\n",
        "  if i==2:\n",
        "    continue"
      ],
      "metadata": {
        "colab": {
          "base_uri": "https://localhost:8080/"
        },
        "id": "B3eCp4Qq71am",
        "outputId": "b8198ec4-83d6-4b9d-cbbb-4b9855df3a63"
      },
      "execution_count": null,
      "outputs": [
        {
          "output_type": "stream",
          "name": "stdout",
          "text": [
            "current letter: p\n",
            "current letter: i\n",
            "current letter: n\n",
            "current letter: e\n",
            "current letter: p\n",
            "current letter: p\n",
            "current letter: l\n",
            "current letter: e\n",
            "\n",
            "\n",
            "current value: 10\n",
            "current value: 9\n",
            "current value: 8\n",
            "current value: 7\n",
            "current value: 6\n",
            "current value: 5\n",
            "current value: 4\n",
            "current value: 3\n",
            "current value: 2\n",
            "current value: 1\n"
          ]
        }
      ]
    },
    {
      "cell_type": "code",
      "source": [
        "#pass\n",
        "for l in 'chocolate':\n",
        "  if l=='t':\n",
        "    pass\n",
        "  print(\"This is pass block\")\n",
        "  print(\"current letter:\",l)\n",
        "print(\"\\n\")\n",
        "i=10\n",
        "while(i>0):\n",
        "  print(\"current value:\",i)\n",
        "  i=i-1\n",
        "  if i==5:\n",
        "    print(\"This is pass block\")"
      ],
      "metadata": {
        "colab": {
          "base_uri": "https://localhost:8080/"
        },
        "id": "CJZtgbqv8JC3",
        "outputId": "15668a84-5448-4971-fd50-d7d447868def"
      },
      "execution_count": null,
      "outputs": [
        {
          "output_type": "stream",
          "name": "stdout",
          "text": [
            "This is pass block\n",
            "current letter: c\n",
            "This is pass block\n",
            "current letter: h\n",
            "This is pass block\n",
            "current letter: o\n",
            "This is pass block\n",
            "current letter: c\n",
            "This is pass block\n",
            "current letter: o\n",
            "This is pass block\n",
            "current letter: l\n",
            "This is pass block\n",
            "current letter: a\n",
            "This is pass block\n",
            "current letter: t\n",
            "This is pass block\n",
            "current letter: e\n",
            "\n",
            "\n",
            "current value: 10\n",
            "current value: 9\n",
            "current value: 8\n",
            "current value: 7\n",
            "current value: 6\n",
            "This is pass block\n",
            "current value: 5\n",
            "current value: 4\n",
            "current value: 3\n",
            "current value: 2\n",
            "current value: 1\n"
          ]
        }
      ]
    },
    {
      "cell_type": "code",
      "source": [
        "#activity1\n",
        "str1=input(\"Enter a string\")\n",
        "if(str1==str1[::-1]):\n",
        "  print(\"palindrome\")\n",
        "else:\n",
        "  print(\"not a palindrome\")"
      ],
      "metadata": {
        "colab": {
          "base_uri": "https://localhost:8080/"
        },
        "id": "EFou1Dt38aY_",
        "outputId": "a1537a07-f4fe-409f-be7f-f631bf24eebb"
      },
      "execution_count": null,
      "outputs": [
        {
          "output_type": "stream",
          "name": "stdout",
          "text": [
            "Enter a string121\n",
            "palindrome\n"
          ]
        }
      ]
    },
    {
      "cell_type": "code",
      "source": [
        "#activity2\n",
        "for i in range(1,100):\n",
        "  str2=str(i)\n",
        "  if(str2==str2[::-1]):\n",
        "    print(i)"
      ],
      "metadata": {
        "colab": {
          "base_uri": "https://localhost:8080/"
        },
        "id": "sS20xAPl8kw7",
        "outputId": "93a31a8c-65da-4659-c33e-1aac0e0fb329"
      },
      "execution_count": null,
      "outputs": [
        {
          "output_type": "stream",
          "name": "stdout",
          "text": [
            "1\n",
            "2\n",
            "3\n",
            "4\n",
            "5\n",
            "6\n",
            "7\n",
            "8\n",
            "9\n",
            "11\n",
            "22\n",
            "33\n",
            "44\n",
            "55\n",
            "66\n",
            "77\n",
            "88\n",
            "99\n"
          ]
        }
      ]
    },
    {
      "cell_type": "code",
      "source": [
        "#activity3\n",
        "l=[1,2,3,4,5,6,7,8,9,10]\n",
        "for i in range(len(l)):\n",
        "  if(l[i]%2==0):\n",
        "    print(l[i])"
      ],
      "metadata": {
        "colab": {
          "base_uri": "https://localhost:8080/"
        },
        "id": "btseDs5B8sfT",
        "outputId": "8ca7ba63-1407-4726-91dd-b027636da85c"
      },
      "execution_count": null,
      "outputs": [
        {
          "output_type": "stream",
          "name": "stdout",
          "text": [
            "2\n",
            "4\n",
            "6\n",
            "8\n",
            "10\n"
          ]
        }
      ]
    },
    {
      "cell_type": "markdown",
      "source": [
        "activity4: Write a python program that generates desired output i.e, from countries list select out the country names that contain string “and”\n",
        "\n",
        "Countries_list=[“Finland”,”Germany”,”Sweden”,”Ireland”,”Turkey”]\n",
        "\n",
        "Output: [“Finland”,”Ireland”]"
      ],
      "metadata": {
        "id": "1yzzedgZ9tPN"
      }
    },
    {
      "cell_type": "code",
      "source": [
        "Countries_list=[\"Finland\",\"Germany\",\"Sweden\",\"Ireland\",\"Turkey\"]\n",
        "l=[]\n",
        "for i in Countries_list:\n",
        "  if (\"and\" in i):\n",
        "    l.append(i)\n",
        "print(l)"
      ],
      "metadata": {
        "colab": {
          "base_uri": "https://localhost:8080/"
        },
        "id": "aK_h9LbM9udR",
        "outputId": "4a949404-48ca-41a0-e0ea-e0972d20d705"
      },
      "execution_count": null,
      "outputs": [
        {
          "output_type": "stream",
          "name": "stdout",
          "text": [
            "['Finland', 'Ireland']\n"
          ]
        }
      ]
    },
    {
      "cell_type": "markdown",
      "source": [
        "activity5: Write a python program that print respective grades of student:Grade – Outstanding  for marks>=90Grade A+ for marks >=80, <90Grade A for marks >=70, <80Grade B for marks >=60 and <70<60 Grade C"
      ],
      "metadata": {
        "id": "qkOStqcr-JtA"
      }
    },
    {
      "cell_type": "code",
      "source": [
        "marks=int(input(\"Enter your marks=\"))\n",
        "if(marks>=90):\n",
        "  print(\"outstanding\")\n",
        "elif(marks >=80 & marks<90):\n",
        "  print(\"grade A+\")\n",
        "elif( marks >=70and marks<90):\n",
        "  print(\"grade A\")\n",
        "elif( marks >=60and marks<90):\n",
        "  print(\"garde B\")\n",
        "else:\n",
        "  print(\"garde C\")"
      ],
      "metadata": {
        "colab": {
          "base_uri": "https://localhost:8080/"
        },
        "id": "pA8xjzXp-OAs",
        "outputId": "cf3076b5-a1e0-456f-cd70-9203febca5b7"
      },
      "execution_count": null,
      "outputs": [
        {
          "output_type": "stream",
          "name": "stdout",
          "text": [
            "Enter your marks=86\n",
            "grade A+\n"
          ]
        }
      ]
    },
    {
      "cell_type": "markdown",
      "source": [
        "activity6: Create a list with name state list with 5 elements State_list = [“Delhi”,”Telangana”,”Goa”,”AP”,”Kerala”]\n",
        "\n",
        "Write a python program that extract first and last characters of each item and print in desired format.\n",
        "\n",
        "Input: [“Delhi”,”Telangana”,”Goa”,”AP”,”Kerala”]\n",
        "\n",
        "Output: dItAgAaOkA"
      ],
      "metadata": {
        "id": "NSO8NNR_-ilr"
      }
    },
    {
      "cell_type": "code",
      "source": [
        "list1= [\"Delhi\",\"Telangana\",\"Goa\",\"AP\",\"Kerala\"]\n",
        "for i in range(len(list1)):\n",
        "  str33=list1[i][0]\n",
        "  str22=list1[i][-1] \n",
        "  print((str33+str22).swapcase())"
      ],
      "metadata": {
        "colab": {
          "base_uri": "https://localhost:8080/"
        },
        "id": "qxueoCID-mQN",
        "outputId": "fedb0b69-a0ca-4685-cbd3-b6dbddfeecac"
      },
      "execution_count": null,
      "outputs": [
        {
          "output_type": "stream",
          "name": "stdout",
          "text": [
            "dI\n",
            "tA\n",
            "gA\n",
            "ap\n",
            "kA\n"
          ]
        }
      ]
    },
    {
      "cell_type": "code",
      "source": [
        "#user defined functions\n",
        "def greet(name):\n",
        "  '''this function greets a person'''\n",
        "  print(\"HI,\\t\"+name+\"\\tGOOD MORNING\")\n",
        "greet(\"AYESHA SHAHANAZ\")"
      ],
      "metadata": {
        "colab": {
          "base_uri": "https://localhost:8080/"
        },
        "id": "BOB371X7-u_U",
        "outputId": "d3612246-221b-48ff-baea-802af04c5dcc"
      },
      "execution_count": null,
      "outputs": [
        {
          "output_type": "stream",
          "name": "stdout",
          "text": [
            "HI,\tAYESHA SHAHANAZ\tGOOD MORNING\n"
          ]
        }
      ]
    },
    {
      "cell_type": "code",
      "source": [
        "#default\n",
        "def A(a,b=1,c=2):\n",
        "  return a+b+c\n",
        "print(A(3))\n",
        "print(A(4,4,4))\n",
        "print(A(2,2))"
      ],
      "metadata": {
        "colab": {
          "base_uri": "https://localhost:8080/"
        },
        "id": "RZ-a32so_GLQ",
        "outputId": "aaf23403-b23e-420f-9262-0d3347db6d35"
      },
      "execution_count": null,
      "outputs": [
        {
          "output_type": "stream",
          "name": "stdout",
          "text": [
            "6\n",
            "12\n",
            "6\n"
          ]
        }
      ]
    },
    {
      "cell_type": "code",
      "source": [
        "#keyword\n",
        "def A(a,b=1,c=2):\n",
        "  return a+b+c\n",
        "print(A(a=2,b=3))\n",
        "print(A(c=3,b=2,a=1))"
      ],
      "metadata": {
        "colab": {
          "base_uri": "https://localhost:8080/"
        },
        "id": "SBPpxood_V2V",
        "outputId": "0248548f-d62d-474f-b8d3-e42cb68baf2f"
      },
      "execution_count": null,
      "outputs": [
        {
          "output_type": "stream",
          "name": "stdout",
          "text": [
            "7\n",
            "6\n"
          ]
        }
      ]
    },
    {
      "cell_type": "code",
      "source": [
        "#positional\n",
        "def add(a,b,c):\n",
        "  return a+b+c\n",
        "print(add(10,20,30))\n",
        "print(add(10,b=20,c=30))"
      ],
      "metadata": {
        "colab": {
          "base_uri": "https://localhost:8080/"
        },
        "id": "fDKYnEPw_YyK",
        "outputId": "56cb6841-fc78-447c-f44f-db600d438314"
      },
      "execution_count": null,
      "outputs": [
        {
          "output_type": "stream",
          "name": "stdout",
          "text": [
            "60\n",
            "60\n"
          ]
        }
      ]
    },
    {
      "cell_type": "code",
      "source": [
        "#arbitrary keyword\n",
        "def key_arg(**kwargs):\n",
        "  return kwargs\n",
        "dict1=key_arg(Apples=10,oranges=20,grapes=30)\n",
        "print(dict1['Apples'])\n",
        "print(dict1)"
      ],
      "metadata": {
        "colab": {
          "base_uri": "https://localhost:8080/"
        },
        "id": "Hk0uSHsE_dEC",
        "outputId": "c2d9cb37-ae9c-4ad6-9838-f27913e75f1d"
      },
      "execution_count": null,
      "outputs": [
        {
          "output_type": "stream",
          "name": "stdout",
          "text": [
            "10\n",
            "{'Apples': 10, 'oranges': 20, 'grapes': 30}\n"
          ]
        }
      ]
    },
    {
      "cell_type": "code",
      "source": [
        "#arbitrary keyword\n",
        "def add_num(*n):\n",
        "  print(n)\n",
        "  print(sum(n))\n",
        "add_num(5,11)"
      ],
      "metadata": {
        "colab": {
          "base_uri": "https://localhost:8080/",
          "height": 321
        },
        "id": "YdqkIXls_iUN",
        "outputId": "e6fcca91-9539-456e-fd5c-21c9df711bd6"
      },
      "execution_count": null,
      "outputs": [
        {
          "output_type": "stream",
          "name": "stdout",
          "text": [
            "(5, 11)\n"
          ]
        },
        {
          "output_type": "error",
          "ename": "TypeError",
          "evalue": "ignored",
          "traceback": [
            "\u001b[0;31m---------------------------------------------------------------------------\u001b[0m",
            "\u001b[0;31mTypeError\u001b[0m                                 Traceback (most recent call last)",
            "\u001b[0;32m<ipython-input-55-fd58803f278e>\u001b[0m in \u001b[0;36m<module>\u001b[0;34m()\u001b[0m\n\u001b[1;32m      3\u001b[0m   \u001b[0mprint\u001b[0m\u001b[0;34m(\u001b[0m\u001b[0mn\u001b[0m\u001b[0;34m)\u001b[0m\u001b[0;34m\u001b[0m\u001b[0;34m\u001b[0m\u001b[0m\n\u001b[1;32m      4\u001b[0m   \u001b[0mprint\u001b[0m\u001b[0;34m(\u001b[0m\u001b[0msum\u001b[0m\u001b[0;34m(\u001b[0m\u001b[0mn\u001b[0m\u001b[0;34m)\u001b[0m\u001b[0;34m)\u001b[0m\u001b[0;34m\u001b[0m\u001b[0;34m\u001b[0m\u001b[0m\n\u001b[0;32m----> 5\u001b[0;31m \u001b[0madd_num\u001b[0m\u001b[0;34m(\u001b[0m\u001b[0;36m5\u001b[0m\u001b[0;34m,\u001b[0m\u001b[0;36m11\u001b[0m\u001b[0;34m)\u001b[0m\u001b[0;34m\u001b[0m\u001b[0;34m\u001b[0m\u001b[0m\n\u001b[0m",
            "\u001b[0;32m<ipython-input-55-fd58803f278e>\u001b[0m in \u001b[0;36madd_num\u001b[0;34m(*n)\u001b[0m\n\u001b[1;32m      2\u001b[0m \u001b[0;32mdef\u001b[0m \u001b[0madd_num\u001b[0m\u001b[0;34m(\u001b[0m\u001b[0;34m*\u001b[0m\u001b[0mn\u001b[0m\u001b[0;34m)\u001b[0m\u001b[0;34m:\u001b[0m\u001b[0;34m\u001b[0m\u001b[0;34m\u001b[0m\u001b[0m\n\u001b[1;32m      3\u001b[0m   \u001b[0mprint\u001b[0m\u001b[0;34m(\u001b[0m\u001b[0mn\u001b[0m\u001b[0;34m)\u001b[0m\u001b[0;34m\u001b[0m\u001b[0;34m\u001b[0m\u001b[0m\n\u001b[0;32m----> 4\u001b[0;31m   \u001b[0mprint\u001b[0m\u001b[0;34m(\u001b[0m\u001b[0msum\u001b[0m\u001b[0;34m(\u001b[0m\u001b[0mn\u001b[0m\u001b[0;34m)\u001b[0m\u001b[0;34m)\u001b[0m\u001b[0;34m\u001b[0m\u001b[0;34m\u001b[0m\u001b[0m\n\u001b[0m\u001b[1;32m      5\u001b[0m \u001b[0madd_num\u001b[0m\u001b[0;34m(\u001b[0m\u001b[0;36m5\u001b[0m\u001b[0;34m,\u001b[0m\u001b[0;36m11\u001b[0m\u001b[0;34m)\u001b[0m\u001b[0;34m\u001b[0m\u001b[0;34m\u001b[0m\u001b[0m\n",
            "\u001b[0;31mTypeError\u001b[0m: 'int' object is not callable"
          ]
        }
      ]
    },
    {
      "cell_type": "code",
      "source": [
        "#higher order functions\n",
        "def shout(text):\n",
        "  return text.upper()\n",
        "def whisper(text):\n",
        "  return text.lower()\n",
        "def explain(func):\n",
        "  greet=func(\"Hi,i am higher order function\")\n",
        "  print(greet)\n",
        "explain(shout)\n",
        "explain(whisper)"
      ],
      "metadata": {
        "colab": {
          "base_uri": "https://localhost:8080/"
        },
        "id": "xFQWGVUV_q3C",
        "outputId": "64b5af41-91fe-4152-9222-e10b5f97084c"
      },
      "execution_count": null,
      "outputs": [
        {
          "output_type": "stream",
          "name": "stdout",
          "text": [
            "HI,I AM HIGHER ORDER FUNCTION\n",
            "hi,i am higher order function\n"
          ]
        }
      ]
    },
    {
      "cell_type": "code",
      "source": [
        "#lambda\n",
        "def incr(x):\n",
        "  x+=1\n",
        "  return x\n",
        "print(incr(4))\n",
        "print((lambda x:x+1)(4))\n",
        "res=lambda x:x+1\n",
        "print(res(4))"
      ],
      "metadata": {
        "colab": {
          "base_uri": "https://localhost:8080/"
        },
        "id": "BNyysMap_vGJ",
        "outputId": "18e74914-4c85-453c-be61-e0f23d0d8c75"
      },
      "execution_count": null,
      "outputs": [
        {
          "output_type": "stream",
          "name": "stdout",
          "text": [
            "5\n",
            "5\n",
            "5\n"
          ]
        }
      ]
    },
    {
      "cell_type": "code",
      "source": [
        "print((lambda x,y:x**y)(2,2))\n",
        "print((lambda x,y:x+y)(2,3))\n",
        "res=lambda x,y:x*y\n",
        "print(res(2,3))"
      ],
      "metadata": {
        "colab": {
          "base_uri": "https://localhost:8080/"
        },
        "id": "_AqLl4LSAgJM",
        "outputId": "2b949841-307f-4965-b865-59bb4b7e21ad"
      },
      "execution_count": null,
      "outputs": [
        {
          "output_type": "stream",
          "name": "stdout",
          "text": [
            "4\n",
            "5\n",
            "6\n"
          ]
        }
      ]
    },
    {
      "cell_type": "code",
      "source": [
        "li=[1,2,3,4,5]\n",
        "#res=lambda x:x+2\n",
        "#print(res(li))"
      ],
      "metadata": {
        "id": "nUxJZUvCAntK"
      },
      "execution_count": null,
      "outputs": []
    },
    {
      "cell_type": "code",
      "source": [
        "def inc(num):\n",
        "  return num+2\n",
        "res_list=list(map(inc,li))\n",
        "print(res_list)\n",
        "\n",
        "\n",
        "res_list1=list(map(lambda x:x+2,li))\n",
        "print(res_list1)\n",
        "\n",
        "\n",
        "print(list(map(lambda x:x+2,li)))"
      ],
      "metadata": {
        "colab": {
          "base_uri": "https://localhost:8080/"
        },
        "id": "BK8IaB2-Ay86",
        "outputId": "abe4b858-47e4-4cf7-cf1c-bf737b0f6446"
      },
      "execution_count": null,
      "outputs": [
        {
          "output_type": "stream",
          "name": "stdout",
          "text": [
            "[3, 4, 5, 6, 7]\n",
            "[3, 4, 5, 6, 7]\n",
            "[3, 4, 5, 6, 7]\n"
          ]
        }
      ]
    },
    {
      "cell_type": "code",
      "source": [
        "def eod(num):\n",
        "  if num%2==0 :\n",
        "    return \"The number {} is even\".format(num)\n",
        "  else :\n",
        "    return \"The number {} is odd\".format(num)\n",
        "eod(20)\n",
        "\n",
        "li1=[1,2,3,4,5,6,7,8,9,10]\n",
        "list(map(eod,li1))"
      ],
      "metadata": {
        "colab": {
          "base_uri": "https://localhost:8080/"
        },
        "id": "97tLtIigA1kV",
        "outputId": "0dc95024-b53a-4573-aac8-503b03eac535"
      },
      "execution_count": null,
      "outputs": [
        {
          "output_type": "execute_result",
          "data": {
            "text/plain": [
              "['The number 1 is odd',\n",
              " 'The number 2 is even',\n",
              " 'The number 3 is odd',\n",
              " 'The number 4 is even',\n",
              " 'The number 5 is odd',\n",
              " 'The number 6 is even',\n",
              " 'The number 7 is odd',\n",
              " 'The number 8 is even',\n",
              " 'The number 9 is odd',\n",
              " 'The number 10 is even']"
            ]
          },
          "metadata": {},
          "execution_count": 63
        }
      ]
    },
    {
      "cell_type": "code",
      "source": [
        "li2=['apple','banana','grapes']\n",
        "res=list(map(lambda x:x.capitalize(),li2))\n",
        "print(res)"
      ],
      "metadata": {
        "colab": {
          "base_uri": "https://localhost:8080/"
        },
        "id": "R5DoS6nAA5I_",
        "outputId": "124df472-0409-4444-f2e1-773795fa0b7c"
      },
      "execution_count": null,
      "outputs": [
        {
          "output_type": "stream",
          "name": "stdout",
          "text": [
            "['Apple', 'Banana', 'Grapes']\n"
          ]
        }
      ]
    },
    {
      "cell_type": "code",
      "source": [
        "#filter\n",
        "def odd_num(n):\n",
        "  if(n%2!=0):\n",
        "    return n\n",
        "li3=[9,26,35,-2,50]\n",
        "print(list(filter(odd_num,li3)))"
      ],
      "metadata": {
        "colab": {
          "base_uri": "https://localhost:8080/"
        },
        "id": "D7FNc_YgA87j",
        "outputId": "c96b8216-cdf3-4f7f-8435-e92b9df5a6d0"
      },
      "execution_count": null,
      "outputs": [
        {
          "output_type": "stream",
          "name": "stdout",
          "text": [
            "[9, 35]\n"
          ]
        }
      ]
    },
    {
      "cell_type": "code",
      "source": [
        "li4=[18,94,33,16,99,22,56,107,34]\n",
        "temp=list(filter(lambda x:x%2==0,li4))\n",
        "print(temp)"
      ],
      "metadata": {
        "colab": {
          "base_uri": "https://localhost:8080/"
        },
        "id": "bVsXhvxmA-yE",
        "outputId": "7b54a4b4-08c7-4457-935b-2764911a43c1"
      },
      "execution_count": null,
      "outputs": [
        {
          "output_type": "stream",
          "name": "stdout",
          "text": [
            "[18, 94, 16, 22, 56, 34]\n"
          ]
        }
      ]
    },
    {
      "cell_type": "code",
      "source": [
        "#modules\n",
        "import os\n",
        "os.mkdir(\"hi\")\n",
        "os.chdir(\"hi\")\n",
        "os.getcwd()\n",
        "os.listdir()\n",
        "os.rmdir(\"/content/hi\")"
      ],
      "metadata": {
        "id": "bhyjOzieBFJt"
      },
      "execution_count": null,
      "outputs": []
    },
    {
      "cell_type": "code",
      "source": [
        "#math module\n",
        "import math as m\n",
        "print(m.pi)\n",
        "print(m.e)\n",
        "print(m.sqrt(4))\n",
        "print(m.factorial(5))\n",
        "print(m.pow(2,2))\n",
        "print(m.floor(1.4))\n",
        "print(m.tan(5))\n",
        "print(m.log(2))"
      ],
      "metadata": {
        "colab": {
          "base_uri": "https://localhost:8080/"
        },
        "id": "dKQlPJ8jBIXq",
        "outputId": "3469bb85-7c37-4430-ae16-366b90ac95a6"
      },
      "execution_count": null,
      "outputs": [
        {
          "output_type": "stream",
          "name": "stdout",
          "text": [
            "3.141592653589793\n",
            "2.718281828459045\n",
            "2.0\n",
            "120\n",
            "4.0\n",
            "1\n",
            "-3.380515006246586\n",
            "0.6931471805599453\n"
          ]
        }
      ]
    },
    {
      "cell_type": "code",
      "source": [
        "#sys module\n",
        "import sys\n",
        "print(sys.path)\n",
        "print(sys.version)\n",
        "print(sys.maxsize)"
      ],
      "metadata": {
        "colab": {
          "base_uri": "https://localhost:8080/"
        },
        "id": "ySlqbur6BOrq",
        "outputId": "a6934273-ec88-4f0a-da27-50791de1c87d"
      },
      "execution_count": null,
      "outputs": [
        {
          "output_type": "stream",
          "name": "stdout",
          "text": [
            "['', '/content', '/env/python', '/usr/lib/python37.zip', '/usr/lib/python3.7', '/usr/lib/python3.7/lib-dynload', '/usr/local/lib/python3.7/dist-packages', '/usr/lib/python3/dist-packages', '/usr/local/lib/python3.7/dist-packages/IPython/extensions', '/root/.ipython']\n",
            "3.7.13 (default, Apr 24 2022, 01:04:09) \n",
            "[GCC 7.5.0]\n",
            "9223372036854775807\n"
          ]
        }
      ]
    },
    {
      "cell_type": "code",
      "source": [
        "#statistics module\n",
        "import statistics as st\n",
        "print(st.mean([21,29,34]))\n",
        "print(st.median([1,2,3,4,5]))\n",
        "print(st.mode([1,2,3,1,1]))"
      ],
      "metadata": {
        "colab": {
          "base_uri": "https://localhost:8080/"
        },
        "id": "LMcmsrbDBc5M",
        "outputId": "0442db1b-7f85-4a45-c922-35ef4be6b7f8"
      },
      "execution_count": null,
      "outputs": [
        {
          "output_type": "stream",
          "name": "stdout",
          "text": [
            "28\n",
            "3\n",
            "1\n"
          ]
        }
      ]
    },
    {
      "cell_type": "code",
      "source": [
        "#time module\n",
        "import time\n",
        "print(time.time())\n",
        "print(time.localtime())\n",
        "print(time.asctime())\n",
        "print(time.ctime())\n",
        "print(time.sleep(1.5))"
      ],
      "metadata": {
        "colab": {
          "base_uri": "https://localhost:8080/"
        },
        "id": "SuWZPL_1BfHH",
        "outputId": "d5984d0b-93f6-45ce-8436-e308187b5ae9"
      },
      "execution_count": null,
      "outputs": [
        {
          "output_type": "stream",
          "name": "stdout",
          "text": [
            "1655223758.2227325\n",
            "time.struct_time(tm_year=2022, tm_mon=6, tm_mday=14, tm_hour=16, tm_min=22, tm_sec=38, tm_wday=1, tm_yday=165, tm_isdst=0)\n",
            "Tue Jun 14 16:22:38 2022\n",
            "Tue Jun 14 16:22:38 2022\n",
            "None\n"
          ]
        }
      ]
    },
    {
      "cell_type": "code",
      "source": [
        "#random module\n",
        "import random  as r\n",
        "print(r.randrange(1,50))\n",
        "print(r.randint(1,100))\n",
        "print(r.random())"
      ],
      "metadata": {
        "colab": {
          "base_uri": "https://localhost:8080/"
        },
        "id": "MhUVHBjuBjab",
        "outputId": "7c5159ce-1d11-4a13-a9ce-bcea327dd38a"
      },
      "execution_count": null,
      "outputs": [
        {
          "output_type": "stream",
          "name": "stdout",
          "text": [
            "18\n",
            "77\n",
            "0.9054238403051469\n"
          ]
        }
      ]
    },
    {
      "cell_type": "code",
      "source": [
        "import random as r\n",
        "g_num=r.randint(0,5)\n",
        "g1_num=int(input(\"Enter a number=\"))\n",
        "if g1_num==g_num :\n",
        "  print(\"you won\")\n",
        "else :\n",
        "  print(\"you lost\")"
      ],
      "metadata": {
        "colab": {
          "base_uri": "https://localhost:8080/"
        },
        "id": "eNSvCEySBvuC",
        "outputId": "fb253a74-88c8-4c9c-c06f-52e35a1721f2"
      },
      "execution_count": null,
      "outputs": [
        {
          "output_type": "stream",
          "name": "stdout",
          "text": [
            "Enter a number=4\n",
            "you lost\n"
          ]
        }
      ]
    },
    {
      "cell_type": "markdown",
      "source": [
        "act: Write a python program that remove items that are multiples of 5 from list:li=[1,2,5,6,7,10,15,25,65,78,90]o/p: [1,2,6,7,78]"
      ],
      "metadata": {
        "id": "e6akc5ToB8Tx"
      }
    },
    {
      "cell_type": "code",
      "source": [
        "li=[1,2,5,6,7,10,15,25,65,78,90]\n",
        "res=list(filter(lambda x:x%5!=0,li))\n",
        "print(res)"
      ],
      "metadata": {
        "colab": {
          "base_uri": "https://localhost:8080/"
        },
        "id": "ZGgYA7-yB_tL",
        "outputId": "dbddb0ed-8ab2-49bc-893a-0428cd45136d"
      },
      "execution_count": null,
      "outputs": [
        {
          "output_type": "stream",
          "name": "stdout",
          "text": [
            "[1, 2, 6, 7, 78]\n"
          ]
        }
      ]
    },
    {
      "cell_type": "markdown",
      "source": [
        "act: Write a python program that generates desired output from fruits list. Filter out the fruits names that don’t start with ‘A’\n",
        "\n",
        "Fruit=[“Apple”,”Banana”,”Pear”,”Avacado”,”Orange”,”Amla”]\n",
        "\n",
        "Output: [“Apple”,”Avacado”,”Amla”]"
      ],
      "metadata": {
        "id": "T5tt2A5CCDHb"
      }
    },
    {
      "cell_type": "code",
      "source": [
        "Fruit=[\"Apple\",\"Banana\",\"Pear\",\"Avacado\",\"Orange\",\"Amla\"]\n",
        "res=list(filter(lambda x:x[0]=='A',Fruit))\n",
        "print(res)"
      ],
      "metadata": {
        "colab": {
          "base_uri": "https://localhost:8080/"
        },
        "id": "NJWxca6zCG6X",
        "outputId": "0fc3f8d6-931e-4656-c2a7-1971d15ef6b0"
      },
      "execution_count": null,
      "outputs": [
        {
          "output_type": "stream",
          "name": "stdout",
          "text": [
            "['Apple', 'Avacado', 'Amla']\n"
          ]
        }
      ]
    },
    {
      "cell_type": "markdown",
      "source": [
        "act: Mssg=”Welcome to gradstellar bootcamp” X=”number of occurrences of ‘o’ in mssg”\n",
        "\n",
        "Y=”number of occurrences of ‘e’ in mssg”\n",
        "\n",
        "Compute (X+Y)2"
      ],
      "metadata": {
        "id": "AliPF9WaCLXl"
      }
    },
    {
      "cell_type": "code",
      "source": [
        "Mssg=\"Welcome to gradstellar bootcamp\"\n",
        "x=Mssg.count('o')\n",
        "print(x)\n",
        "y=Mssg.count('e')\n",
        "print(y)\n",
        "print(\"(x+y)^2=\",x*x+y*y+2*x*y)"
      ],
      "metadata": {
        "colab": {
          "base_uri": "https://localhost:8080/"
        },
        "id": "ooQY41JHCPoG",
        "outputId": "9ffa279b-a730-4efc-a419-8677c09af602"
      },
      "execution_count": null,
      "outputs": [
        {
          "output_type": "stream",
          "name": "stdout",
          "text": [
            "4\n",
            "3\n",
            "(x+y)^2= 49\n"
          ]
        }
      ]
    },
    {
      "cell_type": "markdown",
      "source": [
        "act: Write python program that filters a list by removing the elements that not start with vowel. I/P: [‘apple’,’orange’,’grapes’,’ball’,’bat’,’umbrella’]\n",
        "\n",
        "O/P: [‘apple’,’orange’,’umbrella’]"
      ],
      "metadata": {
        "id": "Q5JD9Yj9CyFo"
      }
    },
    {
      "cell_type": "code",
      "source": [
        "list22=[\"apple\",\"orange\",\"grapes\",\"ball\",\"bat\",\"umbrella\"]\n",
        "res=list(filter(lambda x:x[0] in 'AEIOUaeiou',list22))\n",
        "print(res)"
      ],
      "metadata": {
        "colab": {
          "base_uri": "https://localhost:8080/"
        },
        "id": "DA9EcQqBCzc0",
        "outputId": "e7d6416e-2270-4ec5-80d9-ba24f4e7328a"
      },
      "execution_count": 7,
      "outputs": [
        {
          "output_type": "stream",
          "name": "stdout",
          "text": [
            "['apple', 'orange', 'umbrella']\n"
          ]
        }
      ]
    },
    {
      "cell_type": "markdown",
      "source": [
        "act: Write a python program that displays unique element in a given list using function Li=[56,78,32,45,45,45,19,20]\n",
        "\n",
        "O/P: [56,78,32,45,19,20]"
      ],
      "metadata": {
        "id": "df5xLSw6C5vT"
      }
    },
    {
      "cell_type": "code",
      "source": [
        "Li23=[56,78,32,45,45,45,19,20]\n",
        "def dup(d):\n",
        "  n=[]\n",
        "  for i in d:\n",
        "    if i not in n:\n",
        "      n.append(i)\n",
        "  return n\n",
        "dup(Li23)"
      ],
      "metadata": {
        "colab": {
          "base_uri": "https://localhost:8080/"
        },
        "id": "QBir9plhC92W",
        "outputId": "1a58b73a-ca7e-4b96-9bdc-7764aea6aa33"
      },
      "execution_count": null,
      "outputs": [
        {
          "output_type": "execute_result",
          "data": {
            "text/plain": [
              "[56, 78, 32, 45, 19, 20]"
            ]
          },
          "metadata": {},
          "execution_count": 78
        }
      ]
    }
  ]
}